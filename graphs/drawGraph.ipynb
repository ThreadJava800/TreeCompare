{
 "cells": [
  {
   "cell_type": "code",
   "execution_count": null,
   "metadata": {},
   "outputs": [],
   "source": [
    "import matplotlib.pyplot as plt"
   ]
  },
  {
   "cell_type": "code",
   "execution_count": null,
   "metadata": {},
   "outputs": [],
   "source": [
    "xAxis = [i for i in range (100000, 1000000 + 1, 100000)]\n",
    "addAxis = [31, 65, 103, 141, 175, 221, 258.2, 292, 333.8, 378]\n",
    "addSmAxis = [64, 156.4, 263.2, 375.2, 500.2, 619.4, 760.8, 896.8, 1045.8, 1185]\n",
    "\n",
    "plt.ylabel('Время (ms)', color = 'gray')\n",
    "plt.xlabel('Количество вызовов', color = 'gray')\n",
    "\n",
    "plt.title('Сравнение различных реализация AVL (вставка)', fontsize = 15)\n",
    "\n",
    "plt.plot(xAxis, addAxis)\n",
    "plt.plot(xAxis, addSmAxis)\n",
    "\n",
    "plt.legend(['Наивная реализация', 'Split-merge реализация'])\n",
    "\n",
    "# plt.xticks([])  # removing numbers on x\n",
    "plt.show()\n"
   ]
  },
  {
   "cell_type": "code",
   "execution_count": null,
   "metadata": {},
   "outputs": [],
   "source": [
    "xAxis = [i for i in range (100000, 1000000 + 1, 100000)]\n",
    "addAVLAxis = [47.4, 122.2, 238.8, 407.2, 547.6, 640.6, 764.6, 951.5, 1139.4, 1272]\n",
    "addSMAxis  = [60.6, 148, 257.4, 398.6, 517.2, 600.8, 746, 864.6, 995.2, 1151]\n",
    "addTrAxis  = [31.8, 101.2, 189.2, 301.8, 414, 530.4, 657.4, 756.2, 937.8, 1090.4]\n",
    "addSpAxis  = [95.8, 237.8, 396.2, 579.6, 749.6, 929, 1140.6, 1381, 1563, 1744.4]\n",
    "addSKIPAxis  = [123.8, 310.4, 597.2, 669.6, 935, 1135.4, 1313, 1750.8, 1964.2, 2465.4]\n",
    "\n",
    "\n",
    "plt.ylabel('Время (ms)', color = 'gray')\n",
    "plt.xlabel('Количество вызовов', color = 'gray')\n",
    "\n",
    "plt.title('Сравнение \"вставки\" в различных деревьях', fontsize = 15)\n",
    "\n",
    "plt.plot(xAxis, addAVLAxis)\n",
    "plt.plot(xAxis, addSMAxis)\n",
    "plt.plot(xAxis, addTrAxis)\n",
    "plt.plot(xAxis, addSpAxis)\n",
    "plt.plot(xAxis, addSKIPAxis)\n",
    "\n",
    "plt.legend(['AVL-дерево', 'AVL-дерево с SPLIT/MERGE', 'Декартово дерево', 'SPLAY дерево', 'SKIP list'])\n",
    "\n",
    "# plt.xticks([])  # removing numbers on x\n",
    "plt.show()\n"
   ]
  },
  {
   "cell_type": "code",
   "execution_count": null,
   "metadata": {},
   "outputs": [],
   "source": [
    "xAxis = [i for i in range (100000, 1000000 + 1, 100000)]\n",
    "addAVLAxis = [5.2, 14.8, 30.4, 44.6, 58, 76, 88.6, 107.6, 128.2, 147.6]\n",
    "addSMAxis  = [7.2, 19.4, 33.2, 50.2, 66.2, 87, 103, 120.6, 141.4, 182]\n",
    "addTrAxis  = [10.4, 28.4, 59, 82.4, 111.8, 156.8, 203.2, 245.4, 267, 324]\n",
    "addSPLAxis  = [106, 268.2, 446, 661.6, 862.8, 1090.2, 1315.8, 1612.2, 1793.8, 2039.4]\n",
    "addSkipAxis  = [14.8, 15.4, 129.4, 83.6, 138.8, 17.6, 161, 224.2, 418, 191.8]\n",
    "\n",
    "\n",
    "plt.ylabel('Время (ms)', color = 'gray')\n",
    "plt.xlabel('Количество вызовов', color = 'gray')\n",
    "\n",
    "plt.title('Сравнение \"удаления\" в различных деревьях', fontsize = 15)\n",
    "\n",
    "plt.plot(xAxis, addAVLAxis)\n",
    "plt.plot(xAxis, addSMAxis)\n",
    "plt.plot(xAxis, addTrAxis)\n",
    "plt.plot(xAxis, addSPLAxis)\n",
    "plt.plot(xAxis, addSKIPAxis)\n",
    "\n",
    "\n",
    "plt.legend(['AVL-дерево', 'AVL-дерево с SPLIT/MERGE', 'Декартово дерево', 'Splay дерево', 'SKIP list'])\n",
    "\n",
    "# plt.xticks([])  # removing numbers on x\n",
    "plt.show()\n"
   ]
  }
 ],
 "metadata": {
  "kernelspec": {
   "display_name": "Python 3",
   "language": "python",
   "name": "python3"
  },
  "language_info": {
   "codemirror_mode": {
    "name": "ipython",
    "version": 3
   },
   "file_extension": ".py",
   "mimetype": "text/x-python",
   "name": "python",
   "nbconvert_exporter": "python",
   "pygments_lexer": "ipython3",
   "version": "3.10.10"
  },
  "orig_nbformat": 4
 },
 "nbformat": 4,
 "nbformat_minor": 2
}
